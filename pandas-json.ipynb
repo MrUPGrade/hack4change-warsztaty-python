{
 "cells": [
  {
   "cell_type": "code",
   "execution_count": 1,
   "metadata": {},
   "outputs": [
    {
     "data": {
      "text/plain": [
       "'1.0.1'"
      ]
     },
     "execution_count": 1,
     "metadata": {},
     "output_type": "execute_result"
    }
   ],
   "source": [
    "import numpy as np\n",
    "import pandas as pd\n",
    "pd.__version__"
   ]
  },
  {
   "cell_type": "markdown",
   "metadata": {},
   "source": [
    "Wstęp do pandas: https://pandas.pydata.org/docs/getting_started/10min.html\n",
    "\n",
    "Dane dotyczące jakości powietrza w Polsce: https://dane.gov.pl/dataset/313,jakosc-powietrza-w-polsce-api\n",
    "\n",
    "Opis API: http://powietrze.gios.gov.pl/pjp/content/api#"
   ]
  },
  {
   "cell_type": "code",
   "execution_count": 2,
   "metadata": {},
   "outputs": [
    {
     "data": {
      "text/html": [
       "<div>\n",
       "<style scoped>\n",
       "    .dataframe tbody tr th:only-of-type {\n",
       "        vertical-align: middle;\n",
       "    }\n",
       "\n",
       "    .dataframe tbody tr th {\n",
       "        vertical-align: top;\n",
       "    }\n",
       "\n",
       "    .dataframe thead th {\n",
       "        text-align: right;\n",
       "    }\n",
       "</style>\n",
       "<table border=\"1\" class=\"dataframe\">\n",
       "  <thead>\n",
       "    <tr style=\"text-align: right;\">\n",
       "      <th></th>\n",
       "      <th>id</th>\n",
       "      <th>stationName</th>\n",
       "      <th>gegrLat</th>\n",
       "      <th>gegrLon</th>\n",
       "      <th>city</th>\n",
       "      <th>addressStreet</th>\n",
       "    </tr>\n",
       "  </thead>\n",
       "  <tbody>\n",
       "    <tr>\n",
       "      <th>0</th>\n",
       "      <td>114</td>\n",
       "      <td>Wrocław - Bartnicza</td>\n",
       "      <td>51.115933</td>\n",
       "      <td>17.141125</td>\n",
       "      <td>{'id': 1064, 'name': 'Wrocław', 'commune': {'c...</td>\n",
       "      <td>ul. Bartnicza</td>\n",
       "    </tr>\n",
       "    <tr>\n",
       "      <th>1</th>\n",
       "      <td>117</td>\n",
       "      <td>Wrocław - Korzeniowskiego</td>\n",
       "      <td>51.129378</td>\n",
       "      <td>17.029250</td>\n",
       "      <td>{'id': 1064, 'name': 'Wrocław', 'commune': {'c...</td>\n",
       "      <td>ul. Wyb. J.Conrada-Korzeniowskiego 18</td>\n",
       "    </tr>\n",
       "    <tr>\n",
       "      <th>2</th>\n",
       "      <td>129</td>\n",
       "      <td>Wrocław - Wiśniowa</td>\n",
       "      <td>51.086225</td>\n",
       "      <td>17.012689</td>\n",
       "      <td>{'id': 1064, 'name': 'Wrocław', 'commune': {'c...</td>\n",
       "      <td>al. Wiśniowa/ul. Powst. Śląskich</td>\n",
       "    </tr>\n",
       "    <tr>\n",
       "      <th>3</th>\n",
       "      <td>52</td>\n",
       "      <td>Legnica - Rzeczypospolitej</td>\n",
       "      <td>51.204503</td>\n",
       "      <td>16.180513</td>\n",
       "      <td>{'id': 453, 'name': 'Legnica', 'commune': {'co...</td>\n",
       "      <td>al. Rzeczypospolitej 10/12</td>\n",
       "    </tr>\n",
       "    <tr>\n",
       "      <th>4</th>\n",
       "      <td>109</td>\n",
       "      <td>Wałbrzych - Wysockiego</td>\n",
       "      <td>50.768729</td>\n",
       "      <td>16.269677</td>\n",
       "      <td>{'id': 998, 'name': 'Wałbrzych', 'commune': {'...</td>\n",
       "      <td>ul. Wysockiego 11</td>\n",
       "    </tr>\n",
       "    <tr>\n",
       "      <th>...</th>\n",
       "      <td>...</td>\n",
       "      <td>...</td>\n",
       "      <td>...</td>\n",
       "      <td>...</td>\n",
       "      <td>...</td>\n",
       "      <td>...</td>\n",
       "    </tr>\n",
       "    <tr>\n",
       "      <th>178</th>\n",
       "      <td>142</td>\n",
       "      <td>Grudziądz Airpointer</td>\n",
       "      <td>53.493550</td>\n",
       "      <td>18.762139</td>\n",
       "      <td>{'id': 269, 'name': 'Grudziądz', 'commune': {'...</td>\n",
       "      <td>ul. Piłsudskiego 51</td>\n",
       "    </tr>\n",
       "    <tr>\n",
       "      <th>179</th>\n",
       "      <td>143</td>\n",
       "      <td>Inowrocław Airpointer</td>\n",
       "      <td>52.793122</td>\n",
       "      <td>18.241044</td>\n",
       "      <td>{'id': 287, 'name': 'Inowrocław', 'commune': {...</td>\n",
       "      <td>ul. Solankowa</td>\n",
       "    </tr>\n",
       "    <tr>\n",
       "      <th>180</th>\n",
       "      <td>164</td>\n",
       "      <td>Ciechocinek</td>\n",
       "      <td>52.888422</td>\n",
       "      <td>18.780908</td>\n",
       "      <td>{'id': 122, 'name': 'Ciechocinek', 'commune': ...</td>\n",
       "      <td>ul. Tężniowa - Park Tężniowy</td>\n",
       "    </tr>\n",
       "    <tr>\n",
       "      <th>181</th>\n",
       "      <td>190</td>\n",
       "      <td>Koniczynka</td>\n",
       "      <td>53.080647</td>\n",
       "      <td>18.684258</td>\n",
       "      <td>{'id': 391, 'name': 'Koniczynka', 'commune': {...</td>\n",
       "      <td>None</td>\n",
       "    </tr>\n",
       "    <tr>\n",
       "      <th>182</th>\n",
       "      <td>232</td>\n",
       "      <td>Bory Tucholskie</td>\n",
       "      <td>53.662117</td>\n",
       "      <td>17.934017</td>\n",
       "      <td>{'id': 1104, 'name': 'Zielonka', 'commune': {'...</td>\n",
       "      <td>None</td>\n",
       "    </tr>\n",
       "  </tbody>\n",
       "</table>\n",
       "<p>183 rows × 6 columns</p>\n",
       "</div>"
      ],
      "text/plain": [
       "      id                 stationName    gegrLat    gegrLon  \\\n",
       "0    114         Wrocław - Bartnicza  51.115933  17.141125   \n",
       "1    117   Wrocław - Korzeniowskiego  51.129378  17.029250   \n",
       "2    129          Wrocław - Wiśniowa  51.086225  17.012689   \n",
       "3     52  Legnica - Rzeczypospolitej  51.204503  16.180513   \n",
       "4    109      Wałbrzych - Wysockiego  50.768729  16.269677   \n",
       "..   ...                         ...        ...        ...   \n",
       "178  142        Grudziądz Airpointer  53.493550  18.762139   \n",
       "179  143       Inowrocław Airpointer  52.793122  18.241044   \n",
       "180  164                 Ciechocinek  52.888422  18.780908   \n",
       "181  190                  Koniczynka  53.080647  18.684258   \n",
       "182  232             Bory Tucholskie  53.662117  17.934017   \n",
       "\n",
       "                                                  city  \\\n",
       "0    {'id': 1064, 'name': 'Wrocław', 'commune': {'c...   \n",
       "1    {'id': 1064, 'name': 'Wrocław', 'commune': {'c...   \n",
       "2    {'id': 1064, 'name': 'Wrocław', 'commune': {'c...   \n",
       "3    {'id': 453, 'name': 'Legnica', 'commune': {'co...   \n",
       "4    {'id': 998, 'name': 'Wałbrzych', 'commune': {'...   \n",
       "..                                                 ...   \n",
       "178  {'id': 269, 'name': 'Grudziądz', 'commune': {'...   \n",
       "179  {'id': 287, 'name': 'Inowrocław', 'commune': {...   \n",
       "180  {'id': 122, 'name': 'Ciechocinek', 'commune': ...   \n",
       "181  {'id': 391, 'name': 'Koniczynka', 'commune': {...   \n",
       "182  {'id': 1104, 'name': 'Zielonka', 'commune': {'...   \n",
       "\n",
       "                             addressStreet  \n",
       "0                            ul. Bartnicza  \n",
       "1    ul. Wyb. J.Conrada-Korzeniowskiego 18  \n",
       "2         al. Wiśniowa/ul. Powst. Śląskich  \n",
       "3               al. Rzeczypospolitej 10/12  \n",
       "4                        ul. Wysockiego 11  \n",
       "..                                     ...  \n",
       "178                    ul. Piłsudskiego 51  \n",
       "179                          ul. Solankowa  \n",
       "180           ul. Tężniowa - Park Tężniowy  \n",
       "181                                   None  \n",
       "182                                   None  \n",
       "\n",
       "[183 rows x 6 columns]"
      ]
     },
     "execution_count": 2,
     "metadata": {},
     "output_type": "execute_result"
    }
   ],
   "source": [
    "df1 = pd.read_json(\"data/powietrze.json\")\n",
    "df1"
   ]
  },
  {
   "cell_type": "code",
   "execution_count": 3,
   "metadata": {},
   "outputs": [
    {
     "data": {
      "text/plain": [
       "Index(['id', 'stationName', 'gegrLat', 'gegrLon', 'city', 'addressStreet'], dtype='object')"
      ]
     },
     "execution_count": 3,
     "metadata": {},
     "output_type": "execute_result"
    }
   ],
   "source": [
    "df1.columns"
   ]
  },
  {
   "cell_type": "code",
   "execution_count": 4,
   "metadata": {},
   "outputs": [
    {
     "data": {
      "text/plain": [
       "0             Wrocław - Bartnicza\n",
       "1       Wrocław - Korzeniowskiego\n",
       "2              Wrocław - Wiśniowa\n",
       "3      Legnica - Rzeczypospolitej\n",
       "4          Wałbrzych - Wysockiego\n",
       "                  ...            \n",
       "178          Grudziądz Airpointer\n",
       "179         Inowrocław Airpointer\n",
       "180                   Ciechocinek\n",
       "181                    Koniczynka\n",
       "182               Bory Tucholskie\n",
       "Name: stationName, Length: 183, dtype: object"
      ]
     },
     "execution_count": 4,
     "metadata": {},
     "output_type": "execute_result"
    }
   ],
   "source": [
    "df1[\"stationName\"]"
   ]
  },
  {
   "cell_type": "code",
   "execution_count": 5,
   "metadata": {},
   "outputs": [
    {
     "data": {
      "text/plain": [
       "0      False\n",
       "1      False\n",
       "2      False\n",
       "3      False\n",
       "4      False\n",
       "       ...  \n",
       "178    False\n",
       "179    False\n",
       "180    False\n",
       "181    False\n",
       "182    False\n",
       "Name: stationName, Length: 183, dtype: bool"
      ]
     },
     "execution_count": 5,
     "metadata": {},
     "output_type": "execute_result"
    }
   ],
   "source": [
    "df1[\"stationName\"].str.contains('Gdańsk')"
   ]
  },
  {
   "cell_type": "code",
   "execution_count": 6,
   "metadata": {},
   "outputs": [
    {
     "data": {
      "text/html": [
       "<div>\n",
       "<style scoped>\n",
       "    .dataframe tbody tr th:only-of-type {\n",
       "        vertical-align: middle;\n",
       "    }\n",
       "\n",
       "    .dataframe tbody tr th {\n",
       "        vertical-align: top;\n",
       "    }\n",
       "\n",
       "    .dataframe thead th {\n",
       "        text-align: right;\n",
       "    }\n",
       "</style>\n",
       "<table border=\"1\" class=\"dataframe\">\n",
       "  <thead>\n",
       "    <tr style=\"text-align: right;\">\n",
       "      <th></th>\n",
       "      <th>id</th>\n",
       "      <th>stationName</th>\n",
       "      <th>gegrLat</th>\n",
       "      <th>gegrLon</th>\n",
       "      <th>city</th>\n",
       "      <th>addressStreet</th>\n",
       "    </tr>\n",
       "  </thead>\n",
       "  <tbody>\n",
       "    <tr>\n",
       "      <th>21</th>\n",
       "      <td>296</td>\n",
       "      <td>Łódź-Gdańska 16</td>\n",
       "      <td>51.775411</td>\n",
       "      <td>19.450900</td>\n",
       "      <td>{'id': 516, 'name': 'Łódź', 'commune': {'commu...</td>\n",
       "      <td>ul. Gdańska 16</td>\n",
       "    </tr>\n",
       "    <tr>\n",
       "      <th>120</th>\n",
       "      <td>729</td>\n",
       "      <td>AM1 Gdańsk Śródmieście</td>\n",
       "      <td>54.353336</td>\n",
       "      <td>18.635283</td>\n",
       "      <td>{'id': 218, 'name': 'Gdańsk', 'commune': {'com...</td>\n",
       "      <td>ul. Powstańców Warszawskich</td>\n",
       "    </tr>\n",
       "    <tr>\n",
       "      <th>121</th>\n",
       "      <td>730</td>\n",
       "      <td>AM2 Gdańsk Stogi</td>\n",
       "      <td>54.367778</td>\n",
       "      <td>18.701111</td>\n",
       "      <td>{'id': 218, 'name': 'Gdańsk', 'commune': {'com...</td>\n",
       "      <td>ul. Kaczeńce</td>\n",
       "    </tr>\n",
       "    <tr>\n",
       "      <th>122</th>\n",
       "      <td>731</td>\n",
       "      <td>AM3 Gdańsk Nowy Port</td>\n",
       "      <td>54.400833</td>\n",
       "      <td>18.657497</td>\n",
       "      <td>{'id': 218, 'name': 'Gdańsk', 'commune': {'com...</td>\n",
       "      <td>ul. Wyzwolenia</td>\n",
       "    </tr>\n",
       "    <tr>\n",
       "      <th>124</th>\n",
       "      <td>733</td>\n",
       "      <td>AM5 Gdańsk Szadółki</td>\n",
       "      <td>54.328336</td>\n",
       "      <td>18.557781</td>\n",
       "      <td>{'id': 218, 'name': 'Gdańsk', 'commune': {'com...</td>\n",
       "      <td>ul. Ostrzycka</td>\n",
       "    </tr>\n",
       "    <tr>\n",
       "      <th>126</th>\n",
       "      <td>736</td>\n",
       "      <td>AM8 Gdańsk Wrzeszcz</td>\n",
       "      <td>54.380279</td>\n",
       "      <td>18.620274</td>\n",
       "      <td>{'id': 218, 'name': 'Gdańsk', 'commune': {'com...</td>\n",
       "      <td>ul. Leczkowa</td>\n",
       "    </tr>\n",
       "  </tbody>\n",
       "</table>\n",
       "</div>"
      ],
      "text/plain": [
       "      id             stationName    gegrLat    gegrLon  \\\n",
       "21   296         Łódź-Gdańska 16  51.775411  19.450900   \n",
       "120  729  AM1 Gdańsk Śródmieście  54.353336  18.635283   \n",
       "121  730        AM2 Gdańsk Stogi  54.367778  18.701111   \n",
       "122  731    AM3 Gdańsk Nowy Port  54.400833  18.657497   \n",
       "124  733     AM5 Gdańsk Szadółki  54.328336  18.557781   \n",
       "126  736     AM8 Gdańsk Wrzeszcz  54.380279  18.620274   \n",
       "\n",
       "                                                  city  \\\n",
       "21   {'id': 516, 'name': 'Łódź', 'commune': {'commu...   \n",
       "120  {'id': 218, 'name': 'Gdańsk', 'commune': {'com...   \n",
       "121  {'id': 218, 'name': 'Gdańsk', 'commune': {'com...   \n",
       "122  {'id': 218, 'name': 'Gdańsk', 'commune': {'com...   \n",
       "124  {'id': 218, 'name': 'Gdańsk', 'commune': {'com...   \n",
       "126  {'id': 218, 'name': 'Gdańsk', 'commune': {'com...   \n",
       "\n",
       "                   addressStreet  \n",
       "21                ul. Gdańska 16  \n",
       "120  ul. Powstańców Warszawskich  \n",
       "121                 ul. Kaczeńce  \n",
       "122               ul. Wyzwolenia  \n",
       "124                ul. Ostrzycka  \n",
       "126                 ul. Leczkowa  "
      ]
     },
     "execution_count": 6,
     "metadata": {},
     "output_type": "execute_result"
    }
   ],
   "source": [
    "df1[df1[\"stationName\"].str.contains('Gdańsk')]"
   ]
  },
  {
   "cell_type": "code",
   "execution_count": 7,
   "metadata": {},
   "outputs": [
    {
     "data": {
      "text/html": [
       "<div>\n",
       "<style scoped>\n",
       "    .dataframe tbody tr th:only-of-type {\n",
       "        vertical-align: middle;\n",
       "    }\n",
       "\n",
       "    .dataframe tbody tr th {\n",
       "        vertical-align: top;\n",
       "    }\n",
       "\n",
       "    .dataframe thead th {\n",
       "        text-align: right;\n",
       "    }\n",
       "</style>\n",
       "<table border=\"1\" class=\"dataframe\">\n",
       "  <thead>\n",
       "    <tr style=\"text-align: right;\">\n",
       "      <th></th>\n",
       "      <th>id</th>\n",
       "      <th>stationName</th>\n",
       "      <th>gegrLat</th>\n",
       "      <th>gegrLon</th>\n",
       "      <th>city</th>\n",
       "      <th>addressStreet</th>\n",
       "    </tr>\n",
       "  </thead>\n",
       "  <tbody>\n",
       "    <tr>\n",
       "      <th>120</th>\n",
       "      <td>729</td>\n",
       "      <td>AM1 Gdańsk Śródmieście</td>\n",
       "      <td>54.353336</td>\n",
       "      <td>18.635283</td>\n",
       "      <td>{'id': 218, 'name': 'Gdańsk', 'commune': {'com...</td>\n",
       "      <td>ul. Powstańców Warszawskich</td>\n",
       "    </tr>\n",
       "  </tbody>\n",
       "</table>\n",
       "</div>"
      ],
      "text/plain": [
       "      id             stationName    gegrLat    gegrLon  \\\n",
       "120  729  AM1 Gdańsk Śródmieście  54.353336  18.635283   \n",
       "\n",
       "                                                  city  \\\n",
       "120  {'id': 218, 'name': 'Gdańsk', 'commune': {'com...   \n",
       "\n",
       "                   addressStreet  \n",
       "120  ul. Powstańców Warszawskich  "
      ]
     },
     "execution_count": 7,
     "metadata": {},
     "output_type": "execute_result"
    }
   ],
   "source": [
    "df1[df1[\"id\"]==729]"
   ]
  },
  {
   "cell_type": "code",
   "execution_count": 8,
   "metadata": {},
   "outputs": [
    {
     "data": {
      "text/plain": [
       "id                                                             729\n",
       "stationName                                 AM1 Gdańsk Śródmieście\n",
       "gegrLat                                                    54.3533\n",
       "gegrLon                                                    18.6353\n",
       "city             {'id': 218, 'name': 'Gdańsk', 'commune': {'com...\n",
       "addressStreet                          ul. Powstańców Warszawskich\n",
       "Name: 120, dtype: object"
      ]
     },
     "execution_count": 8,
     "metadata": {},
     "output_type": "execute_result"
    }
   ],
   "source": [
    "df1.loc[120]"
   ]
  },
  {
   "cell_type": "code",
   "execution_count": 9,
   "metadata": {},
   "outputs": [
    {
     "data": {
      "text/plain": [
       "729"
      ]
     },
     "execution_count": 9,
     "metadata": {},
     "output_type": "execute_result"
    }
   ],
   "source": [
    "df1.loc[120][\"id\"]"
   ]
  },
  {
   "cell_type": "markdown",
   "metadata": {},
   "source": [
    "## Czas pobrać więcej danych"
   ]
  },
  {
   "cell_type": "code",
   "execution_count": 10,
   "metadata": {},
   "outputs": [
    {
     "data": {
      "text/plain": [
       "<Response [200]>"
      ]
     },
     "execution_count": 10,
     "metadata": {},
     "output_type": "execute_result"
    }
   ],
   "source": [
    "import requests\n",
    "\n",
    "station_id = df1.loc[120][\"id\"]\n",
    "sensors_data_url = f\"http://api.gios.gov.pl/pjp-api/rest/station/sensors/{station_id}\"\n",
    "result = requests.get(sensors_data_url)\n",
    "result"
   ]
  },
  {
   "cell_type": "code",
   "execution_count": 11,
   "metadata": {},
   "outputs": [
    {
     "data": {
      "text/plain": [
       "[{'id': 4676,\n",
       "  'stationId': 729,\n",
       "  'param': {'paramName': 'tlenek węgla',\n",
       "   'paramFormula': 'CO',\n",
       "   'paramCode': 'CO',\n",
       "   'idParam': 8}},\n",
       " {'id': 4679,\n",
       "  'stationId': 729,\n",
       "  'param': {'paramName': 'dwutlenek azotu',\n",
       "   'paramFormula': 'NO2',\n",
       "   'paramCode': 'NO2',\n",
       "   'idParam': 6}},\n",
       " {'id': 4681,\n",
       "  'stationId': 729,\n",
       "  'param': {'paramName': 'pył zawieszony PM10',\n",
       "   'paramFormula': 'PM10',\n",
       "   'paramCode': 'PM10',\n",
       "   'idParam': 3}},\n",
       " {'id': 4683,\n",
       "  'stationId': 729,\n",
       "  'param': {'paramName': 'dwutlenek siarki',\n",
       "   'paramFormula': 'SO2',\n",
       "   'paramCode': 'SO2',\n",
       "   'idParam': 1}}]"
      ]
     },
     "execution_count": 11,
     "metadata": {},
     "output_type": "execute_result"
    }
   ],
   "source": [
    "sensors_data = result.json()\n",
    "sensors_data"
   ]
  },
  {
   "cell_type": "code",
   "execution_count": 12,
   "metadata": {},
   "outputs": [
    {
     "data": {
      "text/plain": [
       "4683"
      ]
     },
     "execution_count": 12,
     "metadata": {},
     "output_type": "execute_result"
    }
   ],
   "source": [
    "sensor_id = sensors_data[3][\"id\"]\n",
    "sensor_id"
   ]
  },
  {
   "cell_type": "code",
   "execution_count": 13,
   "metadata": {},
   "outputs": [
    {
     "data": {
      "text/plain": [
       "<Response [200]>"
      ]
     },
     "execution_count": 13,
     "metadata": {},
     "output_type": "execute_result"
    }
   ],
   "source": [
    "measurements_data_url = f\"http://api.gios.gov.pl/pjp-api/rest/data/getData/{sensor_id}\"\n",
    "result2 = requests.get(measurements_data_url)\n",
    "result2"
   ]
  },
  {
   "cell_type": "code",
   "execution_count": 14,
   "metadata": {},
   "outputs": [
    {
     "data": {
      "text/plain": [
       "{'key': 'SO2',\n",
       " 'values': [{'date': '2020-06-20 03:00:00', 'value': None},\n",
       "  {'date': '2020-06-20 02:00:00', 'value': None},\n",
       "  {'date': '2020-06-20 01:00:00', 'value': 6.80369},\n",
       "  {'date': '2020-06-20 00:00:00', 'value': 7.00097},\n",
       "  {'date': '2020-06-19 23:00:00', 'value': 7.4081},\n",
       "  {'date': '2020-06-19 22:00:00', 'value': 7.3682},\n",
       "  {'date': '2020-06-19 21:00:00', 'value': 7.00541},\n",
       "  {'date': '2020-06-19 20:00:00', 'value': 7.38224},\n",
       "  {'date': '2020-06-19 19:00:00', 'value': 7.3283},\n",
       "  {'date': '2020-06-19 18:00:00', 'value': 7.13471},\n",
       "  {'date': '2020-06-19 17:00:00', 'value': 7.62386},\n",
       "  {'date': '2020-06-19 16:00:00', 'value': 6.73941},\n",
       "  {'date': '2020-06-19 15:00:00', 'value': 8.17137},\n",
       "  {'date': '2020-06-19 14:00:00', 'value': 7.57952},\n",
       "  {'date': '2020-06-19 13:00:00', 'value': 8.21644},\n",
       "  {'date': '2020-06-19 12:00:00', 'value': 7.15466},\n",
       "  {'date': '2020-06-19 11:00:00', 'value': 8.29107},\n",
       "  {'date': '2020-06-19 10:00:00', 'value': 9.03809},\n",
       "  {'date': '2020-06-19 09:00:00', 'value': 9.26567},\n",
       "  {'date': '2020-06-19 08:00:00', 'value': 7.97335},\n",
       "  {'date': '2020-06-19 07:00:00', 'value': 3.97301},\n",
       "  {'date': '2020-06-19 06:00:00', 'value': 5.67245},\n",
       "  {'date': '2020-06-19 05:00:00', 'value': 7.04457},\n",
       "  {'date': '2020-06-19 04:00:00', 'value': 6.71576},\n",
       "  {'date': '2020-06-19 03:00:00', 'value': 6.24361},\n",
       "  {'date': '2020-06-19 02:00:00', 'value': None},\n",
       "  {'date': '2020-06-19 01:00:00', 'value': 7.99037},\n",
       "  {'date': '2020-06-19 00:00:00', 'value': 6.63448},\n",
       "  {'date': '2020-06-18 23:00:00', 'value': 7.18348},\n",
       "  {'date': '2020-06-18 22:00:00', 'value': 7.07117},\n",
       "  {'date': '2020-06-18 21:00:00', 'value': 7.15762},\n",
       "  {'date': '2020-06-18 20:00:00', 'value': 7.74429},\n",
       "  {'date': '2020-06-18 19:00:00', 'value': 7.54332},\n",
       "  {'date': '2020-06-18 18:00:00', 'value': 8.75288},\n",
       "  {'date': '2020-06-18 17:00:00', 'value': 8.28073},\n",
       "  {'date': '2020-06-18 16:00:00', 'value': 8.78243},\n",
       "  {'date': '2020-06-18 15:00:00', 'value': 6.21997},\n",
       "  {'date': '2020-06-18 14:00:00', 'value': 8.58367},\n",
       "  {'date': '2020-06-18 13:00:00', 'value': 7.27288},\n",
       "  {'date': '2020-06-18 12:00:00', 'value': 8.18172},\n",
       "  {'date': '2020-06-18 11:00:00', 'value': 8.30142},\n",
       "  {'date': '2020-06-18 10:00:00', 'value': 7.83296},\n",
       "  {'date': '2020-06-18 09:00:00', 'value': 7.80119},\n",
       "  {'date': '2020-06-18 08:00:00', 'value': 6.1579},\n",
       "  {'date': '2020-06-18 07:00:00', 'value': 5.49512},\n",
       "  {'date': '2020-06-18 06:00:00', 'value': 5.69314},\n",
       "  {'date': '2020-06-18 05:00:00', 'value': 5.30153},\n",
       "  {'date': '2020-06-18 04:00:00', 'value': 6.56798},\n",
       "  {'date': '2020-06-18 03:00:00', 'value': 6.30937},\n",
       "  {'date': '2020-06-18 02:00:00', 'value': 7.17239},\n",
       "  {'date': '2020-06-18 01:00:00', 'value': 7.36303}]}"
      ]
     },
     "execution_count": 14,
     "metadata": {},
     "output_type": "execute_result"
    }
   ],
   "source": [
    "result2.json()"
   ]
  },
  {
   "cell_type": "code",
   "execution_count": 15,
   "metadata": {},
   "outputs": [
    {
     "data": {
      "text/plain": [
       "[{'date': '2020-06-20 03:00:00', 'value': None},\n",
       " {'date': '2020-06-20 02:00:00', 'value': None},\n",
       " {'date': '2020-06-20 01:00:00', 'value': 6.80369},\n",
       " {'date': '2020-06-20 00:00:00', 'value': 7.00097},\n",
       " {'date': '2020-06-19 23:00:00', 'value': 7.4081},\n",
       " {'date': '2020-06-19 22:00:00', 'value': 7.3682},\n",
       " {'date': '2020-06-19 21:00:00', 'value': 7.00541},\n",
       " {'date': '2020-06-19 20:00:00', 'value': 7.38224},\n",
       " {'date': '2020-06-19 19:00:00', 'value': 7.3283},\n",
       " {'date': '2020-06-19 18:00:00', 'value': 7.13471}]"
      ]
     },
     "execution_count": 15,
     "metadata": {},
     "output_type": "execute_result"
    }
   ],
   "source": [
    "measurements = result2.json()[\"values\"]\n",
    "measurements[:10]"
   ]
  },
  {
   "cell_type": "markdown",
   "metadata": {},
   "source": [
    "Dane wczytane są już do pythonowych obiektów więć można po prostu stworzyć *DataFrame*"
   ]
  },
  {
   "cell_type": "code",
   "execution_count": 16,
   "metadata": {},
   "outputs": [
    {
     "data": {
      "text/html": [
       "<div>\n",
       "<style scoped>\n",
       "    .dataframe tbody tr th:only-of-type {\n",
       "        vertical-align: middle;\n",
       "    }\n",
       "\n",
       "    .dataframe tbody tr th {\n",
       "        vertical-align: top;\n",
       "    }\n",
       "\n",
       "    .dataframe thead th {\n",
       "        text-align: right;\n",
       "    }\n",
       "</style>\n",
       "<table border=\"1\" class=\"dataframe\">\n",
       "  <thead>\n",
       "    <tr style=\"text-align: right;\">\n",
       "      <th></th>\n",
       "      <th>date</th>\n",
       "      <th>value</th>\n",
       "    </tr>\n",
       "  </thead>\n",
       "  <tbody>\n",
       "    <tr>\n",
       "      <th>0</th>\n",
       "      <td>2020-06-20 03:00:00</td>\n",
       "      <td>NaN</td>\n",
       "    </tr>\n",
       "    <tr>\n",
       "      <th>1</th>\n",
       "      <td>2020-06-20 02:00:00</td>\n",
       "      <td>NaN</td>\n",
       "    </tr>\n",
       "    <tr>\n",
       "      <th>2</th>\n",
       "      <td>2020-06-20 01:00:00</td>\n",
       "      <td>6.80369</td>\n",
       "    </tr>\n",
       "    <tr>\n",
       "      <th>3</th>\n",
       "      <td>2020-06-20 00:00:00</td>\n",
       "      <td>7.00097</td>\n",
       "    </tr>\n",
       "    <tr>\n",
       "      <th>4</th>\n",
       "      <td>2020-06-19 23:00:00</td>\n",
       "      <td>7.40810</td>\n",
       "    </tr>\n",
       "  </tbody>\n",
       "</table>\n",
       "</div>"
      ],
      "text/plain": [
       "                  date    value\n",
       "0  2020-06-20 03:00:00      NaN\n",
       "1  2020-06-20 02:00:00      NaN\n",
       "2  2020-06-20 01:00:00  6.80369\n",
       "3  2020-06-20 00:00:00  7.00097\n",
       "4  2020-06-19 23:00:00  7.40810"
      ]
     },
     "execution_count": 16,
     "metadata": {},
     "output_type": "execute_result"
    }
   ],
   "source": [
    "df2 = pd.DataFrame(measurements)\n",
    "df2.head()"
   ]
  },
  {
   "cell_type": "code",
   "execution_count": 17,
   "metadata": {},
   "outputs": [
    {
     "data": {
      "text/plain": [
       "51"
      ]
     },
     "execution_count": 17,
     "metadata": {},
     "output_type": "execute_result"
    }
   ],
   "source": [
    "len(df2)"
   ]
  },
  {
   "cell_type": "code",
   "execution_count": 18,
   "metadata": {},
   "outputs": [
    {
     "data": {
      "text/plain": [
       "<matplotlib.axes._subplots.AxesSubplot at 0x7f82e0cec9d0>"
      ]
     },
     "execution_count": 18,
     "metadata": {},
     "output_type": "execute_result"
    },
    {
     "data": {
      "image/png": "[encoded data removed]",
      "text/plain": [
       "<Figure size 432x288 with 1 Axes>"
      ]
     },
     "metadata": {
      "needs_background": "light"
     },
     "output_type": "display_data"
    }
   ],
   "source": [
    "df2.plot()"
   ]
  },
  {
   "cell_type": "code",
   "execution_count": 19,
   "metadata": {},
   "outputs": [
    {
     "data": {
      "text/html": [
       "<div>\n",
       "<style scoped>\n",
       "    .dataframe tbody tr th:only-of-type {\n",
       "        vertical-align: middle;\n",
       "    }\n",
       "\n",
       "    .dataframe tbody tr th {\n",
       "        vertical-align: top;\n",
       "    }\n",
       "\n",
       "    .dataframe thead th {\n",
       "        text-align: right;\n",
       "    }\n",
       "</style>\n",
       "<table border=\"1\" class=\"dataframe\">\n",
       "  <thead>\n",
       "    <tr style=\"text-align: right;\">\n",
       "      <th></th>\n",
       "      <th>value</th>\n",
       "    </tr>\n",
       "    <tr>\n",
       "      <th>date</th>\n",
       "      <th></th>\n",
       "    </tr>\n",
       "  </thead>\n",
       "  <tbody>\n",
       "    <tr>\n",
       "      <th>2020-06-20 03:00:00</th>\n",
       "      <td>NaN</td>\n",
       "    </tr>\n",
       "    <tr>\n",
       "      <th>2020-06-20 02:00:00</th>\n",
       "      <td>NaN</td>\n",
       "    </tr>\n",
       "    <tr>\n",
       "      <th>2020-06-20 01:00:00</th>\n",
       "      <td>6.80369</td>\n",
       "    </tr>\n",
       "    <tr>\n",
       "      <th>2020-06-20 00:00:00</th>\n",
       "      <td>7.00097</td>\n",
       "    </tr>\n",
       "    <tr>\n",
       "      <th>2020-06-19 23:00:00</th>\n",
       "      <td>7.40810</td>\n",
       "    </tr>\n",
       "  </tbody>\n",
       "</table>\n",
       "</div>"
      ],
      "text/plain": [
       "                       value\n",
       "date                        \n",
       "2020-06-20 03:00:00      NaN\n",
       "2020-06-20 02:00:00      NaN\n",
       "2020-06-20 01:00:00  6.80369\n",
       "2020-06-20 00:00:00  7.00097\n",
       "2020-06-19 23:00:00  7.40810"
      ]
     },
     "execution_count": 19,
     "metadata": {},
     "output_type": "execute_result"
    }
   ],
   "source": [
    "df2['date'] = pd.to_datetime(df2['date'])\n",
    "df2\n",
    "df3 = df2.set_index(\"date\")\n",
    "df3.head()"
   ]
  },
  {
   "cell_type": "code",
   "execution_count": 20,
   "metadata": {},
   "outputs": [
    {
     "data": {
      "text/plain": [
       "<matplotlib.axes._subplots.AxesSubplot at 0x7f82e001ac90>"
      ]
     },
     "execution_count": 20,
     "metadata": {},
     "output_type": "execute_result"
    },
    {
     "data": {
      "image/png": "[encoded data removed]",
      "text/plain": [
       "<Figure size 432x288 with 1 Axes>"
      ]
     },
     "metadata": {
      "needs_background": "light"
     },
     "output_type": "display_data"
    }
   ],
   "source": [
    "df3.plot()"
   ]
  },
  {
   "cell_type": "code",
   "execution_count": 21,
   "metadata": {},
   "outputs": [
    {
     "data": {
      "text/plain": [
       "array([[Timestamp('2020-06-20 03:00:00'), nan],\n",
       "       [Timestamp('2020-06-20 02:00:00'), nan],\n",
       "       [Timestamp('2020-06-20 01:00:00'), 6.80369],\n",
       "       [Timestamp('2020-06-20 00:00:00'), 7.00097],\n",
       "       [Timestamp('2020-06-19 23:00:00'), 7.4081],\n",
       "       [Timestamp('2020-06-19 22:00:00'), 7.3682],\n",
       "       [Timestamp('2020-06-19 21:00:00'), 7.00541],\n",
       "       [Timestamp('2020-06-19 20:00:00'), 7.38224],\n",
       "       [Timestamp('2020-06-19 19:00:00'), 7.3283],\n",
       "       [Timestamp('2020-06-19 18:00:00'), 7.13471],\n",
       "       [Timestamp('2020-06-19 17:00:00'), 7.62386],\n",
       "       [Timestamp('2020-06-19 16:00:00'), 6.73941],\n",
       "       [Timestamp('2020-06-19 15:00:00'), 8.17137],\n",
       "       [Timestamp('2020-06-19 14:00:00'), 7.57952],\n",
       "       [Timestamp('2020-06-19 13:00:00'), 8.21644],\n",
       "       [Timestamp('2020-06-19 12:00:00'), 7.15466],\n",
       "       [Timestamp('2020-06-19 11:00:00'), 8.29107],\n",
       "       [Timestamp('2020-06-19 10:00:00'), 9.03809],\n",
       "       [Timestamp('2020-06-19 09:00:00'), 9.26567],\n",
       "       [Timestamp('2020-06-19 08:00:00'), 7.97335],\n",
       "       [Timestamp('2020-06-19 07:00:00'), 3.97301],\n",
       "       [Timestamp('2020-06-19 06:00:00'), 5.67245],\n",
       "       [Timestamp('2020-06-19 05:00:00'), 7.04457],\n",
       "       [Timestamp('2020-06-19 04:00:00'), 6.71576],\n",
       "       [Timestamp('2020-06-19 03:00:00'), 6.24361],\n",
       "       [Timestamp('2020-06-19 02:00:00'), nan],\n",
       "       [Timestamp('2020-06-19 01:00:00'), 7.99037],\n",
       "       [Timestamp('2020-06-19 00:00:00'), 6.63448],\n",
       "       [Timestamp('2020-06-18 23:00:00'), 7.18348],\n",
       "       [Timestamp('2020-06-18 22:00:00'), 7.07117],\n",
       "       [Timestamp('2020-06-18 21:00:00'), 7.15762],\n",
       "       [Timestamp('2020-06-18 20:00:00'), 7.74429],\n",
       "       [Timestamp('2020-06-18 19:00:00'), 7.54332],\n",
       "       [Timestamp('2020-06-18 18:00:00'), 8.75288],\n",
       "       [Timestamp('2020-06-18 17:00:00'), 8.28073],\n",
       "       [Timestamp('2020-06-18 16:00:00'), 8.78243],\n",
       "       [Timestamp('2020-06-18 15:00:00'), 6.21997],\n",
       "       [Timestamp('2020-06-18 14:00:00'), 8.58367],\n",
       "       [Timestamp('2020-06-18 13:00:00'), 7.27288],\n",
       "       [Timestamp('2020-06-18 12:00:00'), 8.18172],\n",
       "       [Timestamp('2020-06-18 11:00:00'), 8.30142],\n",
       "       [Timestamp('2020-06-18 10:00:00'), 7.83296],\n",
       "       [Timestamp('2020-06-18 09:00:00'), 7.80119],\n",
       "       [Timestamp('2020-06-18 08:00:00'), 6.1579],\n",
       "       [Timestamp('2020-06-18 07:00:00'), 5.49512],\n",
       "       [Timestamp('2020-06-18 06:00:00'), 5.69314],\n",
       "       [Timestamp('2020-06-18 05:00:00'), 5.30153],\n",
       "       [Timestamp('2020-06-18 04:00:00'), 6.56798],\n",
       "       [Timestamp('2020-06-18 03:00:00'), 6.30937],\n",
       "       [Timestamp('2020-06-18 02:00:00'), 7.17239],\n",
       "       [Timestamp('2020-06-18 01:00:00'), 7.36303]], dtype=object)"
      ]
     },
     "execution_count": 21,
     "metadata": {},
     "output_type": "execute_result"
    }
   ],
   "source": [
    "import matplotlib.pyplot as plt\n",
    "plt.close('all')\n",
    "arr = df2.to_numpy()\n",
    "arr"
   ]
  },
  {
   "cell_type": "code",
   "execution_count": 22,
   "metadata": {},
   "outputs": [
    {
     "data": {
      "text/plain": [
       "array([[Timestamp('2020-06-20 03:00:00'),\n",
       "        Timestamp('2020-06-20 02:00:00'),\n",
       "        Timestamp('2020-06-20 01:00:00'),\n",
       "        Timestamp('2020-06-20 00:00:00'),\n",
       "        Timestamp('2020-06-19 23:00:00'),\n",
       "        Timestamp('2020-06-19 22:00:00'),\n",
       "        Timestamp('2020-06-19 21:00:00'),\n",
       "        Timestamp('2020-06-19 20:00:00'),\n",
       "        Timestamp('2020-06-19 19:00:00'),\n",
       "        Timestamp('2020-06-19 18:00:00'),\n",
       "        Timestamp('2020-06-19 17:00:00'),\n",
       "        Timestamp('2020-06-19 16:00:00'),\n",
       "        Timestamp('2020-06-19 15:00:00'),\n",
       "        Timestamp('2020-06-19 14:00:00'),\n",
       "        Timestamp('2020-06-19 13:00:00'),\n",
       "        Timestamp('2020-06-19 12:00:00'),\n",
       "        Timestamp('2020-06-19 11:00:00'),\n",
       "        Timestamp('2020-06-19 10:00:00'),\n",
       "        Timestamp('2020-06-19 09:00:00'),\n",
       "        Timestamp('2020-06-19 08:00:00'),\n",
       "        Timestamp('2020-06-19 07:00:00'),\n",
       "        Timestamp('2020-06-19 06:00:00'),\n",
       "        Timestamp('2020-06-19 05:00:00'),\n",
       "        Timestamp('2020-06-19 04:00:00'),\n",
       "        Timestamp('2020-06-19 03:00:00'),\n",
       "        Timestamp('2020-06-19 02:00:00'),\n",
       "        Timestamp('2020-06-19 01:00:00'),\n",
       "        Timestamp('2020-06-19 00:00:00'),\n",
       "        Timestamp('2020-06-18 23:00:00'),\n",
       "        Timestamp('2020-06-18 22:00:00'),\n",
       "        Timestamp('2020-06-18 21:00:00'),\n",
       "        Timestamp('2020-06-18 20:00:00'),\n",
       "        Timestamp('2020-06-18 19:00:00'),\n",
       "        Timestamp('2020-06-18 18:00:00'),\n",
       "        Timestamp('2020-06-18 17:00:00'),\n",
       "        Timestamp('2020-06-18 16:00:00'),\n",
       "        Timestamp('2020-06-18 15:00:00'),\n",
       "        Timestamp('2020-06-18 14:00:00'),\n",
       "        Timestamp('2020-06-18 13:00:00'),\n",
       "        Timestamp('2020-06-18 12:00:00'),\n",
       "        Timestamp('2020-06-18 11:00:00'),\n",
       "        Timestamp('2020-06-18 10:00:00'),\n",
       "        Timestamp('2020-06-18 09:00:00'),\n",
       "        Timestamp('2020-06-18 08:00:00'),\n",
       "        Timestamp('2020-06-18 07:00:00'),\n",
       "        Timestamp('2020-06-18 06:00:00'),\n",
       "        Timestamp('2020-06-18 05:00:00'),\n",
       "        Timestamp('2020-06-18 04:00:00'),\n",
       "        Timestamp('2020-06-18 03:00:00'),\n",
       "        Timestamp('2020-06-18 02:00:00'),\n",
       "        Timestamp('2020-06-18 01:00:00')],\n",
       "       [nan, nan, 6.80369, 7.00097, 7.4081, 7.3682, 7.00541, 7.38224,\n",
       "        7.3283, 7.13471, 7.62386, 6.73941, 8.17137, 7.57952, 8.21644,\n",
       "        7.15466, 8.29107, 9.03809, 9.26567, 7.97335, 3.97301, 5.67245,\n",
       "        7.04457, 6.71576, 6.24361, nan, 7.99037, 6.63448, 7.18348,\n",
       "        7.07117, 7.15762, 7.74429, 7.54332, 8.75288, 8.28073, 8.78243,\n",
       "        6.21997, 8.58367, 7.27288, 8.18172, 8.30142, 7.83296, 7.80119,\n",
       "        6.1579, 5.49512, 5.69314, 5.30153, 6.56798, 6.30937, 7.17239,\n",
       "        7.36303]], dtype=object)"
      ]
     },
     "execution_count": 22,
     "metadata": {},
     "output_type": "execute_result"
    }
   ],
   "source": [
    "arr2 = np.swapaxes(arr,0,1)\n",
    "arr2"
   ]
  },
  {
   "cell_type": "code",
   "execution_count": null,
   "metadata": {},
   "outputs": [],
   "source": []
  }
 ],
 "metadata": {
  "kernelspec": {
   "display_name": "Python 3",
   "language": "python",
   "name": "python3"
  },
  "language_info": {
   "codemirror_mode": {
    "name": "ipython",
    "version": 3
   },
   "file_extension": ".py",
   "mimetype": "text/x-python",
   "name": "python",
   "nbconvert_exporter": "python",
   "pygments_lexer": "ipython3",
   "version": "3.7.6"
  }
 },
 "nbformat": 4,
 "nbformat_minor": 4
}
