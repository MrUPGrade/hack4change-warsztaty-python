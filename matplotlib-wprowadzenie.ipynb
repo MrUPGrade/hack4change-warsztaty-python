{
 "cells": [
  {
   "cell_type": "markdown",
   "metadata": {},
   "source": [
    "# matplotlib - wprowadzenie\n",
    "\n",
    "Tutorial: https://matplotlib.org/tutorials/introductory/usage.html#sphx-glr-tutorials-introductory-usage-py\n"
   ]
  },
  {
   "cell_type": "code",
   "execution_count": null,
   "metadata": {},
   "outputs": [],
   "source": [
    "import matplotlib\n",
    "import matplotlib.pyplot as plt\n",
    "import numpy as np\n",
    "matplotlib.__version__"
   ]
  },
  {
   "cell_type": "markdown",
   "metadata": {},
   "source": [
    "Hello world przy użyciu matplotlib"
   ]
  },
  {
   "cell_type": "code",
   "execution_count": null,
   "metadata": {},
   "outputs": [],
   "source": [
    "x_values = [1, 2, 6]\n",
    "y_values = [1, 2, 3]\n",
    "plt.plot(x_values, y_values) "
   ]
  },
  {
   "cell_type": "markdown",
   "metadata": {},
   "source": [
    "Moduł *pyplot* resetuje się po każdym wyświetleniu wykresu"
   ]
  },
  {
   "cell_type": "code",
   "execution_count": null,
   "metadata": {},
   "outputs": [],
   "source": [
    "x_values = [1, 2]\n",
    "y_values = [1, 2]\n",
    "plt.plot(x_values, y_values) \n",
    "plt"
   ]
  },
  {
   "cell_type": "code",
   "execution_count": null,
   "metadata": {},
   "outputs": [],
   "source": [
    "plt"
   ]
  },
  {
   "cell_type": "markdown",
   "metadata": {},
   "source": [
    "## Wykresy\n",
    "\n",
    "Spis wszystkich funkcji moułu *pyplot* znajdziecie tutaj: https://matplotlib.org/api/_as_gen/matplotlib.pyplot.html#module-matplotlib.pyplot"
   ]
  },
  {
   "cell_type": "code",
   "execution_count": null,
   "metadata": {},
   "outputs": [],
   "source": [
    "xv = [1, 2.5, 3.1]\n",
    "yv = [1, 4, 2]\n",
    "plt.plot(xv, yv)\n",
    "plt.title(\"dwie linie\")\n",
    "plt.xlabel(\"Oś X\")\n",
    "plt.ylabel(\"Oś Y\")\n",
    "plt.xticks([1,2,3])\n",
    "plt.yticks([min(yv), max(yv)])"
   ]
  },
  {
   "cell_type": "code",
   "execution_count": null,
   "metadata": {},
   "outputs": [],
   "source": [
    "labels = 'Jabłka', 'Gruszki', 'Banany'\n",
    "values = [2, 2, 5]\n",
    "explode = (0, 0.1, 0)\n",
    "\n",
    "\n",
    "plt.pie(values, explode=explode, labels=labels, autopct='%i %%')\n",
    "plt.axis('equal')\n",
    "plt.show()"
   ]
  },
  {
   "cell_type": "code",
   "execution_count": null,
   "metadata": {},
   "outputs": [],
   "source": [
    "x_arr = np.linspace(1, 10, num=10)\n",
    "y_arr = np.random.random(10) * 4\n",
    "x_arr, y_arr"
   ]
  },
  {
   "cell_type": "code",
   "execution_count": null,
   "metadata": {},
   "outputs": [],
   "source": [
    "plt.plot(x_arr, y_arr) "
   ]
  }
 ],
 "metadata": {
  "kernelspec": {
   "display_name": "Python 3",
   "language": "python",
   "name": "python3"
  },
  "language_info": {
   "codemirror_mode": {
    "name": "ipython",
    "version": 3
   },
   "file_extension": ".py",
   "mimetype": "text/x-python",
   "name": "python",
   "nbconvert_exporter": "python",
   "pygments_lexer": "ipython3",
   "version": "3.7.6"
  }
 },
 "nbformat": 4,
 "nbformat_minor": 4
}
