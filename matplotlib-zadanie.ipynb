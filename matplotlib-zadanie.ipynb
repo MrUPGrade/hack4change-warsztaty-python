{
 "cells": [
  {
   "cell_type": "markdown",
   "metadata": {},
   "source": [
    "# matplotlib - zadanie\n",
    "\n",
    "Wygeneruj macierz z 30 kolejnymi liczbami od 0 do 10 (linspace). Ta macierz posłuży jako oś x.\n",
    "\n",
    "Stwórz nową macierz, która będzie zawierała sinus wartości macierzy osi x.\n",
    "\n",
    "Wygeneruj wykres dla tych wartości."
   ]
  },
  {
   "cell_type": "code",
   "execution_count": 1,
   "metadata": {},
   "outputs": [],
   "source": [
    "import matplotlib\n",
    "import matplotlib.pyplot as plt\n",
    "import numpy as np"
   ]
  }
 ],
 "metadata": {
  "kernelspec": {
   "display_name": "Python 3",
   "language": "python",
   "name": "python3"
  },
  "language_info": {
   "codemirror_mode": {
    "name": "ipython",
    "version": 3
   },
   "file_extension": ".py",
   "mimetype": "text/x-python",
   "name": "python",
   "nbconvert_exporter": "python",
   "pygments_lexer": "ipython3",
   "version": "3.7.6"
  }
 },
 "nbformat": 4,
 "nbformat_minor": 4
}
