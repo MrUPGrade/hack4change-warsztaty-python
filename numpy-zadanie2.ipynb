{
 "cells": [
  {
   "cell_type": "markdown",
   "metadata": {},
   "source": [
    "# Zadanie 2 - numpy obrazki\n",
    "\n",
    "Powiększ macierz 10 krotnie w obu wymiarach.\n",
    "Stwórz obrazek z macierzy.\n",
    "Użyj filtra \"gaussian\" o sigmie 20 na powiększonej macierzy.\n",
    "Stwórz obrazek z przefiltorwanej macierzy."
   ]
  },
  {
   "cell_type": "code",
   "execution_count": null,
   "metadata": {},
   "outputs": [],
   "source": [
    "from PIL import Image\n",
    "import numpy as np\n",
    "from scipy import ndimage"
   ]
  },
  {
   "cell_type": "code",
   "execution_count": null,
   "metadata": {},
   "outputs": [],
   "source": [
    "arr = np.array([[0, 0, 0, 0, 0],\n",
    "                [0, 0, 1, 0, 0],\n",
    "                [0, 1, 1, 1, 0],\n",
    "                [0, 0, 1, 0, 0],\n",
    "                [0, 0, 0, 0, 0]])\n",
    "arr"
   ]
  }
 ],
 "metadata": {
  "kernelspec": {
   "display_name": "Python 3",
   "language": "python",
   "name": "python3"
  },
  "language_info": {
   "codemirror_mode": {
    "name": "ipython",
    "version": 3
   },
   "file_extension": ".py",
   "mimetype": "text/x-python",
   "name": "python",
   "nbconvert_exporter": "python",
   "pygments_lexer": "ipython3",
   "version": "3.7.6"
  }
 },
 "nbformat": 4,
 "nbformat_minor": 4
}
